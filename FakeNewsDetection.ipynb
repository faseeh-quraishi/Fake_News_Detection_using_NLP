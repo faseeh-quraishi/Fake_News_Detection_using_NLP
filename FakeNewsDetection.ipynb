{
  "nbformat": 4,
  "nbformat_minor": 0,
  "metadata": {
    "colab": {
      "provenance": []
    },
    "kernelspec": {
      "name": "python3",
      "display_name": "Python 3"
    },
    "language_info": {
      "name": "python"
    }
  },
  "cells": [
    {
      "cell_type": "code",
      "source": [
        "import pandas as pd\n",
        "# upload 'fake_or_real_news.csv' firsts\n",
        "file_path = '/content/fake_or_real_news.csv'\n",
        "import pandas as pd\n",
        "df = pd.read_csv(file_path)\n",
        "df.head()"
      ],
      "metadata": {
        "colab": {
          "base_uri": "https://localhost:8080/",
          "height": 206
        },
        "id": "6xvdNicX30ir",
        "outputId": "86ef1b49-eadd-4c26-cc6a-c722e2f1bcb7"
      },
      "execution_count": 9,
      "outputs": [
        {
          "output_type": "execute_result",
          "data": {
            "text/plain": [
              "   Unnamed: 0                                              title  \\\n",
              "0        8476                       You Can Smell Hillary’s Fear   \n",
              "1       10294  Watch The Exact Moment Paul Ryan Committed Pol...   \n",
              "2        3608        Kerry to go to Paris in gesture of sympathy   \n",
              "3       10142  Bernie supporters on Twitter erupt in anger ag...   \n",
              "4         875   The Battle of New York: Why This Primary Matters   \n",
              "\n",
              "                                                text label  \n",
              "0  Daniel Greenfield, a Shillman Journalism Fello...  FAKE  \n",
              "1  Google Pinterest Digg Linkedin Reddit Stumbleu...  FAKE  \n",
              "2  U.S. Secretary of State John F. Kerry said Mon...  REAL  \n",
              "3  — Kaydee King (@KaydeeKing) November 9, 2016 T...  FAKE  \n",
              "4  It's primary day in New York and front-runners...  REAL  "
            ],
            "text/html": [
              "\n",
              "  <div id=\"df-09a3cc6d-6573-407c-ab57-14fe5bc2ab8b\">\n",
              "    <div class=\"colab-df-container\">\n",
              "      <div>\n",
              "<style scoped>\n",
              "    .dataframe tbody tr th:only-of-type {\n",
              "        vertical-align: middle;\n",
              "    }\n",
              "\n",
              "    .dataframe tbody tr th {\n",
              "        vertical-align: top;\n",
              "    }\n",
              "\n",
              "    .dataframe thead th {\n",
              "        text-align: right;\n",
              "    }\n",
              "</style>\n",
              "<table border=\"1\" class=\"dataframe\">\n",
              "  <thead>\n",
              "    <tr style=\"text-align: right;\">\n",
              "      <th></th>\n",
              "      <th>Unnamed: 0</th>\n",
              "      <th>title</th>\n",
              "      <th>text</th>\n",
              "      <th>label</th>\n",
              "    </tr>\n",
              "  </thead>\n",
              "  <tbody>\n",
              "    <tr>\n",
              "      <th>0</th>\n",
              "      <td>8476</td>\n",
              "      <td>You Can Smell Hillary’s Fear</td>\n",
              "      <td>Daniel Greenfield, a Shillman Journalism Fello...</td>\n",
              "      <td>FAKE</td>\n",
              "    </tr>\n",
              "    <tr>\n",
              "      <th>1</th>\n",
              "      <td>10294</td>\n",
              "      <td>Watch The Exact Moment Paul Ryan Committed Pol...</td>\n",
              "      <td>Google Pinterest Digg Linkedin Reddit Stumbleu...</td>\n",
              "      <td>FAKE</td>\n",
              "    </tr>\n",
              "    <tr>\n",
              "      <th>2</th>\n",
              "      <td>3608</td>\n",
              "      <td>Kerry to go to Paris in gesture of sympathy</td>\n",
              "      <td>U.S. Secretary of State John F. Kerry said Mon...</td>\n",
              "      <td>REAL</td>\n",
              "    </tr>\n",
              "    <tr>\n",
              "      <th>3</th>\n",
              "      <td>10142</td>\n",
              "      <td>Bernie supporters on Twitter erupt in anger ag...</td>\n",
              "      <td>— Kaydee King (@KaydeeKing) November 9, 2016 T...</td>\n",
              "      <td>FAKE</td>\n",
              "    </tr>\n",
              "    <tr>\n",
              "      <th>4</th>\n",
              "      <td>875</td>\n",
              "      <td>The Battle of New York: Why This Primary Matters</td>\n",
              "      <td>It's primary day in New York and front-runners...</td>\n",
              "      <td>REAL</td>\n",
              "    </tr>\n",
              "  </tbody>\n",
              "</table>\n",
              "</div>\n",
              "      <button class=\"colab-df-convert\" onclick=\"convertToInteractive('df-09a3cc6d-6573-407c-ab57-14fe5bc2ab8b')\"\n",
              "              title=\"Convert this dataframe to an interactive table.\"\n",
              "              style=\"display:none;\">\n",
              "        \n",
              "  <svg xmlns=\"http://www.w3.org/2000/svg\" height=\"24px\"viewBox=\"0 0 24 24\"\n",
              "       width=\"24px\">\n",
              "    <path d=\"M0 0h24v24H0V0z\" fill=\"none\"/>\n",
              "    <path d=\"M18.56 5.44l.94 2.06.94-2.06 2.06-.94-2.06-.94-.94-2.06-.94 2.06-2.06.94zm-11 1L8.5 8.5l.94-2.06 2.06-.94-2.06-.94L8.5 2.5l-.94 2.06-2.06.94zm10 10l.94 2.06.94-2.06 2.06-.94-2.06-.94-.94-2.06-.94 2.06-2.06.94z\"/><path d=\"M17.41 7.96l-1.37-1.37c-.4-.4-.92-.59-1.43-.59-.52 0-1.04.2-1.43.59L10.3 9.45l-7.72 7.72c-.78.78-.78 2.05 0 2.83L4 21.41c.39.39.9.59 1.41.59.51 0 1.02-.2 1.41-.59l7.78-7.78 2.81-2.81c.8-.78.8-2.07 0-2.86zM5.41 20L4 18.59l7.72-7.72 1.47 1.35L5.41 20z\"/>\n",
              "  </svg>\n",
              "      </button>\n",
              "      \n",
              "  <style>\n",
              "    .colab-df-container {\n",
              "      display:flex;\n",
              "      flex-wrap:wrap;\n",
              "      gap: 12px;\n",
              "    }\n",
              "\n",
              "    .colab-df-convert {\n",
              "      background-color: #E8F0FE;\n",
              "      border: none;\n",
              "      border-radius: 50%;\n",
              "      cursor: pointer;\n",
              "      display: none;\n",
              "      fill: #1967D2;\n",
              "      height: 32px;\n",
              "      padding: 0 0 0 0;\n",
              "      width: 32px;\n",
              "    }\n",
              "\n",
              "    .colab-df-convert:hover {\n",
              "      background-color: #E2EBFA;\n",
              "      box-shadow: 0px 1px 2px rgba(60, 64, 67, 0.3), 0px 1px 3px 1px rgba(60, 64, 67, 0.15);\n",
              "      fill: #174EA6;\n",
              "    }\n",
              "\n",
              "    [theme=dark] .colab-df-convert {\n",
              "      background-color: #3B4455;\n",
              "      fill: #D2E3FC;\n",
              "    }\n",
              "\n",
              "    [theme=dark] .colab-df-convert:hover {\n",
              "      background-color: #434B5C;\n",
              "      box-shadow: 0px 1px 3px 1px rgba(0, 0, 0, 0.15);\n",
              "      filter: drop-shadow(0px 1px 2px rgba(0, 0, 0, 0.3));\n",
              "      fill: #FFFFFF;\n",
              "    }\n",
              "  </style>\n",
              "\n",
              "      <script>\n",
              "        const buttonEl =\n",
              "          document.querySelector('#df-09a3cc6d-6573-407c-ab57-14fe5bc2ab8b button.colab-df-convert');\n",
              "        buttonEl.style.display =\n",
              "          google.colab.kernel.accessAllowed ? 'block' : 'none';\n",
              "\n",
              "        async function convertToInteractive(key) {\n",
              "          const element = document.querySelector('#df-09a3cc6d-6573-407c-ab57-14fe5bc2ab8b');\n",
              "          const dataTable =\n",
              "            await google.colab.kernel.invokeFunction('convertToInteractive',\n",
              "                                                     [key], {});\n",
              "          if (!dataTable) return;\n",
              "\n",
              "          const docLinkHtml = 'Like what you see? Visit the ' +\n",
              "            '<a target=\"_blank\" href=https://colab.research.google.com/notebooks/data_table.ipynb>data table notebook</a>'\n",
              "            + ' to learn more about interactive tables.';\n",
              "          element.innerHTML = '';\n",
              "          dataTable['output_type'] = 'display_data';\n",
              "          await google.colab.output.renderOutput(dataTable, element);\n",
              "          const docLink = document.createElement('div');\n",
              "          docLink.innerHTML = docLinkHtml;\n",
              "          element.appendChild(docLink);\n",
              "        }\n",
              "      </script>\n",
              "    </div>\n",
              "  </div>\n",
              "  "
            ]
          },
          "metadata": {},
          "execution_count": 9
        }
      ]
    },
    {
      "cell_type": "markdown",
      "source": [
        "# New section"
      ],
      "metadata": {
        "id": "psNn-1iyzVbd"
      }
    },
    {
      "cell_type": "code",
      "source": [],
      "metadata": {
        "id": "D9RLVi3UDNQf"
      },
      "execution_count": 9,
      "outputs": []
    },
    {
      "cell_type": "code",
      "source": [
        "import numpy as np\n",
        "df.shape\n"
      ],
      "metadata": {
        "colab": {
          "base_uri": "https://localhost:8080/"
        },
        "id": "Qi0BsY_F4Eqx",
        "outputId": "3f6b67e4-c7a6-426d-e7dd-ef4c65e13ed9"
      },
      "execution_count": 10,
      "outputs": [
        {
          "output_type": "execute_result",
          "data": {
            "text/plain": [
              "(6335, 4)"
            ]
          },
          "metadata": {},
          "execution_count": 10
        }
      ]
    },
    {
      "cell_type": "code",
      "source": [
        "df.info()\n",
        "# no NULL value"
      ],
      "metadata": {
        "colab": {
          "base_uri": "https://localhost:8080/"
        },
        "id": "XBJ96HUF_BhU",
        "outputId": "57fbf359-d643-41eb-940f-9fc42acbeba8"
      },
      "execution_count": 11,
      "outputs": [
        {
          "output_type": "stream",
          "name": "stdout",
          "text": [
            "<class 'pandas.core.frame.DataFrame'>\n",
            "RangeIndex: 6335 entries, 0 to 6334\n",
            "Data columns (total 4 columns):\n",
            " #   Column      Non-Null Count  Dtype \n",
            "---  ------      --------------  ----- \n",
            " 0   Unnamed: 0  6335 non-null   int64 \n",
            " 1   title       6335 non-null   object\n",
            " 2   text        6335 non-null   object\n",
            " 3   label       6335 non-null   object\n",
            "dtypes: int64(1), object(3)\n",
            "memory usage: 198.1+ KB\n"
          ]
        }
      ]
    },
    {
      "cell_type": "code",
      "source": [
        "# X = df.drop((\"Unnamed: 0\"),axis= 1)\n",
        "# X = X.drop((\"label\"),axis= 1)\n",
        "X = pd.DataFrame(df['text'])\n",
        "y = df[\"label\"]"
      ],
      "metadata": {
        "id": "005atbVD_jpy"
      },
      "execution_count": 12,
      "outputs": []
    },
    {
      "cell_type": "code",
      "source": [
        "y.replace({'FAKE':0,'REAL':1},inplace=True) #binary encoding\n",
        "y.head()\n"
      ],
      "metadata": {
        "colab": {
          "base_uri": "https://localhost:8080/"
        },
        "id": "ClmsMr937dA1",
        "outputId": "c93edc93-43df-491a-9d09-ca34bb3b277b"
      },
      "execution_count": 13,
      "outputs": [
        {
          "output_type": "execute_result",
          "data": {
            "text/plain": [
              "0    0\n",
              "1    0\n",
              "2    1\n",
              "3    0\n",
              "4    1\n",
              "Name: label, dtype: int64"
            ]
          },
          "metadata": {},
          "execution_count": 13
        }
      ]
    },
    {
      "cell_type": "code",
      "source": [
        "X.head()\n"
      ],
      "metadata": {
        "colab": {
          "base_uri": "https://localhost:8080/",
          "height": 206
        },
        "id": "kF7n6EDLCCfy",
        "outputId": "390ac855-4735-4b30-bfe1-c92febb19ff7"
      },
      "execution_count": 14,
      "outputs": [
        {
          "output_type": "execute_result",
          "data": {
            "text/plain": [
              "                                                text\n",
              "0  Daniel Greenfield, a Shillman Journalism Fello...\n",
              "1  Google Pinterest Digg Linkedin Reddit Stumbleu...\n",
              "2  U.S. Secretary of State John F. Kerry said Mon...\n",
              "3  — Kaydee King (@KaydeeKing) November 9, 2016 T...\n",
              "4  It's primary day in New York and front-runners..."
            ],
            "text/html": [
              "\n",
              "  <div id=\"df-0bd61015-e55c-4bf7-9dc6-2bccaf92f640\">\n",
              "    <div class=\"colab-df-container\">\n",
              "      <div>\n",
              "<style scoped>\n",
              "    .dataframe tbody tr th:only-of-type {\n",
              "        vertical-align: middle;\n",
              "    }\n",
              "\n",
              "    .dataframe tbody tr th {\n",
              "        vertical-align: top;\n",
              "    }\n",
              "\n",
              "    .dataframe thead th {\n",
              "        text-align: right;\n",
              "    }\n",
              "</style>\n",
              "<table border=\"1\" class=\"dataframe\">\n",
              "  <thead>\n",
              "    <tr style=\"text-align: right;\">\n",
              "      <th></th>\n",
              "      <th>text</th>\n",
              "    </tr>\n",
              "  </thead>\n",
              "  <tbody>\n",
              "    <tr>\n",
              "      <th>0</th>\n",
              "      <td>Daniel Greenfield, a Shillman Journalism Fello...</td>\n",
              "    </tr>\n",
              "    <tr>\n",
              "      <th>1</th>\n",
              "      <td>Google Pinterest Digg Linkedin Reddit Stumbleu...</td>\n",
              "    </tr>\n",
              "    <tr>\n",
              "      <th>2</th>\n",
              "      <td>U.S. Secretary of State John F. Kerry said Mon...</td>\n",
              "    </tr>\n",
              "    <tr>\n",
              "      <th>3</th>\n",
              "      <td>— Kaydee King (@KaydeeKing) November 9, 2016 T...</td>\n",
              "    </tr>\n",
              "    <tr>\n",
              "      <th>4</th>\n",
              "      <td>It's primary day in New York and front-runners...</td>\n",
              "    </tr>\n",
              "  </tbody>\n",
              "</table>\n",
              "</div>\n",
              "      <button class=\"colab-df-convert\" onclick=\"convertToInteractive('df-0bd61015-e55c-4bf7-9dc6-2bccaf92f640')\"\n",
              "              title=\"Convert this dataframe to an interactive table.\"\n",
              "              style=\"display:none;\">\n",
              "        \n",
              "  <svg xmlns=\"http://www.w3.org/2000/svg\" height=\"24px\"viewBox=\"0 0 24 24\"\n",
              "       width=\"24px\">\n",
              "    <path d=\"M0 0h24v24H0V0z\" fill=\"none\"/>\n",
              "    <path d=\"M18.56 5.44l.94 2.06.94-2.06 2.06-.94-2.06-.94-.94-2.06-.94 2.06-2.06.94zm-11 1L8.5 8.5l.94-2.06 2.06-.94-2.06-.94L8.5 2.5l-.94 2.06-2.06.94zm10 10l.94 2.06.94-2.06 2.06-.94-2.06-.94-.94-2.06-.94 2.06-2.06.94z\"/><path d=\"M17.41 7.96l-1.37-1.37c-.4-.4-.92-.59-1.43-.59-.52 0-1.04.2-1.43.59L10.3 9.45l-7.72 7.72c-.78.78-.78 2.05 0 2.83L4 21.41c.39.39.9.59 1.41.59.51 0 1.02-.2 1.41-.59l7.78-7.78 2.81-2.81c.8-.78.8-2.07 0-2.86zM5.41 20L4 18.59l7.72-7.72 1.47 1.35L5.41 20z\"/>\n",
              "  </svg>\n",
              "      </button>\n",
              "      \n",
              "  <style>\n",
              "    .colab-df-container {\n",
              "      display:flex;\n",
              "      flex-wrap:wrap;\n",
              "      gap: 12px;\n",
              "    }\n",
              "\n",
              "    .colab-df-convert {\n",
              "      background-color: #E8F0FE;\n",
              "      border: none;\n",
              "      border-radius: 50%;\n",
              "      cursor: pointer;\n",
              "      display: none;\n",
              "      fill: #1967D2;\n",
              "      height: 32px;\n",
              "      padding: 0 0 0 0;\n",
              "      width: 32px;\n",
              "    }\n",
              "\n",
              "    .colab-df-convert:hover {\n",
              "      background-color: #E2EBFA;\n",
              "      box-shadow: 0px 1px 2px rgba(60, 64, 67, 0.3), 0px 1px 3px 1px rgba(60, 64, 67, 0.15);\n",
              "      fill: #174EA6;\n",
              "    }\n",
              "\n",
              "    [theme=dark] .colab-df-convert {\n",
              "      background-color: #3B4455;\n",
              "      fill: #D2E3FC;\n",
              "    }\n",
              "\n",
              "    [theme=dark] .colab-df-convert:hover {\n",
              "      background-color: #434B5C;\n",
              "      box-shadow: 0px 1px 3px 1px rgba(0, 0, 0, 0.15);\n",
              "      filter: drop-shadow(0px 1px 2px rgba(0, 0, 0, 0.3));\n",
              "      fill: #FFFFFF;\n",
              "    }\n",
              "  </style>\n",
              "\n",
              "      <script>\n",
              "        const buttonEl =\n",
              "          document.querySelector('#df-0bd61015-e55c-4bf7-9dc6-2bccaf92f640 button.colab-df-convert');\n",
              "        buttonEl.style.display =\n",
              "          google.colab.kernel.accessAllowed ? 'block' : 'none';\n",
              "\n",
              "        async function convertToInteractive(key) {\n",
              "          const element = document.querySelector('#df-0bd61015-e55c-4bf7-9dc6-2bccaf92f640');\n",
              "          const dataTable =\n",
              "            await google.colab.kernel.invokeFunction('convertToInteractive',\n",
              "                                                     [key], {});\n",
              "          if (!dataTable) return;\n",
              "\n",
              "          const docLinkHtml = 'Like what you see? Visit the ' +\n",
              "            '<a target=\"_blank\" href=https://colab.research.google.com/notebooks/data_table.ipynb>data table notebook</a>'\n",
              "            + ' to learn more about interactive tables.';\n",
              "          element.innerHTML = '';\n",
              "          dataTable['output_type'] = 'display_data';\n",
              "          await google.colab.output.renderOutput(dataTable, element);\n",
              "          const docLink = document.createElement('div');\n",
              "          docLink.innerHTML = docLinkHtml;\n",
              "          element.appendChild(docLink);\n",
              "        }\n",
              "      </script>\n",
              "    </div>\n",
              "  </div>\n",
              "  "
            ]
          },
          "metadata": {},
          "execution_count": 14
        }
      ]
    },
    {
      "cell_type": "code",
      "source": [
        "def remove_stopwords(sentence):\n",
        "    \"\"\"\n",
        "    Stopwords : refers to the most common words in a language (such as “the”, “a”, “an”, “in”) \n",
        "    which helps in formation of sentence to make sense, but these words does not provide any \n",
        "    significance in language processing so remove it .\n",
        "    \"\"\"\n",
        "    # List of stopwords\n",
        "    stopwords = [\"a\", \"about\", \"above\", \"after\", \"again\", \"against\", \"all\", \"am\", \"an\", \"and\", \"any\", \"are\", \"as\", \"at\", \"be\", \"because\", \"been\", \"before\", \"being\", \"below\", \"between\", \"both\", \"but\", \"by\", \"could\", \"did\", \"do\", \"does\", \"doing\", \"down\", \"during\", \"each\", \"few\", \"for\", \"from\", \"further\", \"had\", \"has\", \"have\", \"having\", \"he\", \"he'd\", \"he'll\", \"he's\", \"her\", \"here\", \"here's\", \"hers\", \"herself\", \"him\", \"himself\", \"his\", \"how\", \"how's\", \"i\", \"i'd\", \"i'll\", \"i'm\", \"i've\", \"if\", \"in\", \"into\", \"is\", \"it\", \"it's\", \"its\", \"itself\", \"let's\", \"me\", \"more\", \"most\", \"my\", \"myself\", \"nor\", \"of\", \"on\", \"once\", \"only\", \"or\", \"other\", \"ought\", \"our\", \"ours\", \"ourselves\", \"out\", \"over\", \"own\", \"same\", \"she\", \"she'd\", \"she'll\", \"she's\", \"should\", \"so\", \"some\", \"such\", \"than\", \"that\", \"that's\", \"the\", \"their\", \"theirs\", \"them\", \"themselves\", \"then\", \"there\", \"there's\", \"these\", \"they\", \"they'd\", \"they'll\", \"they're\", \"they've\", \"this\", \"those\", \"through\", \"to\", \"too\", \"under\", \"until\", \"up\", \"very\", \"was\", \"we\", \"we'd\", \"we'll\", \"we're\", \"we've\", \"were\", \"what\", \"what's\", \"when\", \"when's\", \"where\", \"where's\", \"which\", \"while\", \"who\", \"who's\", \"whom\", \"why\", \"why's\", \"with\", \"would\", \"you\", \"you'd\", \"you'll\", \"you're\", \"you've\", \"your\", \"yours\", \"yourself\", \"yourselves\" ]\n",
        "    \n",
        "    # Sentence converted to lowercase-only\n",
        "    sentence = sentence.lower()\n",
        "\n",
        "    words = sentence.split()\n",
        "    no_words = [w for w in words if w not in stopwords]\n",
        "    sentence = \" \".join(no_words)\n",
        "\n",
        "    return sentence\n"
      ],
      "metadata": {
        "id": "BzSOu9g60dZt"
      },
      "execution_count": 15,
      "outputs": []
    },
    {
      "cell_type": "code",
      "source": [
        "# titles = []\n",
        "# for i in range(0,len(X)):\n",
        "#   title = remove_stopwords(X['title'][i])\n",
        "#   titles.append(title)\n",
        "# titles = pd.DataFrame(titles,columns=['title'])\n",
        "# X['title']=titles\n",
        "# X.head()"
      ],
      "metadata": {
        "id": "-2obbJagCEJN"
      },
      "execution_count": 16,
      "outputs": []
    },
    {
      "cell_type": "code",
      "source": [
        "texts= []\n",
        "for i in range(0,len(X)):\n",
        "  text = remove_stopwords(X['text'][i])\n",
        "  texts.append(text)\n",
        "texts = pd.DataFrame(texts,columns=['text'])\n",
        "X['text']=texts\n",
        "X.head()"
      ],
      "metadata": {
        "colab": {
          "base_uri": "https://localhost:8080/",
          "height": 206
        },
        "id": "UzbjaPwdEeLx",
        "outputId": "bc7876a2-659f-4e12-a1cb-2dfc8e74f1a6"
      },
      "execution_count": 17,
      "outputs": [
        {
          "output_type": "execute_result",
          "data": {
            "text/plain": [
              "                                                text\n",
              "0  daniel greenfield, shillman journalism fellow ...\n",
              "1  google pinterest digg linkedin reddit stumbleu...\n",
              "2  u.s. secretary state john f. kerry said monday...\n",
              "3  — kaydee king (@kaydeeking) november 9, 2016 l...\n",
              "4  primary day new york front-runners hillary cli..."
            ],
            "text/html": [
              "\n",
              "  <div id=\"df-3787ee5b-de58-4caa-b8db-89bce8b00283\">\n",
              "    <div class=\"colab-df-container\">\n",
              "      <div>\n",
              "<style scoped>\n",
              "    .dataframe tbody tr th:only-of-type {\n",
              "        vertical-align: middle;\n",
              "    }\n",
              "\n",
              "    .dataframe tbody tr th {\n",
              "        vertical-align: top;\n",
              "    }\n",
              "\n",
              "    .dataframe thead th {\n",
              "        text-align: right;\n",
              "    }\n",
              "</style>\n",
              "<table border=\"1\" class=\"dataframe\">\n",
              "  <thead>\n",
              "    <tr style=\"text-align: right;\">\n",
              "      <th></th>\n",
              "      <th>text</th>\n",
              "    </tr>\n",
              "  </thead>\n",
              "  <tbody>\n",
              "    <tr>\n",
              "      <th>0</th>\n",
              "      <td>daniel greenfield, shillman journalism fellow ...</td>\n",
              "    </tr>\n",
              "    <tr>\n",
              "      <th>1</th>\n",
              "      <td>google pinterest digg linkedin reddit stumbleu...</td>\n",
              "    </tr>\n",
              "    <tr>\n",
              "      <th>2</th>\n",
              "      <td>u.s. secretary state john f. kerry said monday...</td>\n",
              "    </tr>\n",
              "    <tr>\n",
              "      <th>3</th>\n",
              "      <td>— kaydee king (@kaydeeking) november 9, 2016 l...</td>\n",
              "    </tr>\n",
              "    <tr>\n",
              "      <th>4</th>\n",
              "      <td>primary day new york front-runners hillary cli...</td>\n",
              "    </tr>\n",
              "  </tbody>\n",
              "</table>\n",
              "</div>\n",
              "      <button class=\"colab-df-convert\" onclick=\"convertToInteractive('df-3787ee5b-de58-4caa-b8db-89bce8b00283')\"\n",
              "              title=\"Convert this dataframe to an interactive table.\"\n",
              "              style=\"display:none;\">\n",
              "        \n",
              "  <svg xmlns=\"http://www.w3.org/2000/svg\" height=\"24px\"viewBox=\"0 0 24 24\"\n",
              "       width=\"24px\">\n",
              "    <path d=\"M0 0h24v24H0V0z\" fill=\"none\"/>\n",
              "    <path d=\"M18.56 5.44l.94 2.06.94-2.06 2.06-.94-2.06-.94-.94-2.06-.94 2.06-2.06.94zm-11 1L8.5 8.5l.94-2.06 2.06-.94-2.06-.94L8.5 2.5l-.94 2.06-2.06.94zm10 10l.94 2.06.94-2.06 2.06-.94-2.06-.94-.94-2.06-.94 2.06-2.06.94z\"/><path d=\"M17.41 7.96l-1.37-1.37c-.4-.4-.92-.59-1.43-.59-.52 0-1.04.2-1.43.59L10.3 9.45l-7.72 7.72c-.78.78-.78 2.05 0 2.83L4 21.41c.39.39.9.59 1.41.59.51 0 1.02-.2 1.41-.59l7.78-7.78 2.81-2.81c.8-.78.8-2.07 0-2.86zM5.41 20L4 18.59l7.72-7.72 1.47 1.35L5.41 20z\"/>\n",
              "  </svg>\n",
              "      </button>\n",
              "      \n",
              "  <style>\n",
              "    .colab-df-container {\n",
              "      display:flex;\n",
              "      flex-wrap:wrap;\n",
              "      gap: 12px;\n",
              "    }\n",
              "\n",
              "    .colab-df-convert {\n",
              "      background-color: #E8F0FE;\n",
              "      border: none;\n",
              "      border-radius: 50%;\n",
              "      cursor: pointer;\n",
              "      display: none;\n",
              "      fill: #1967D2;\n",
              "      height: 32px;\n",
              "      padding: 0 0 0 0;\n",
              "      width: 32px;\n",
              "    }\n",
              "\n",
              "    .colab-df-convert:hover {\n",
              "      background-color: #E2EBFA;\n",
              "      box-shadow: 0px 1px 2px rgba(60, 64, 67, 0.3), 0px 1px 3px 1px rgba(60, 64, 67, 0.15);\n",
              "      fill: #174EA6;\n",
              "    }\n",
              "\n",
              "    [theme=dark] .colab-df-convert {\n",
              "      background-color: #3B4455;\n",
              "      fill: #D2E3FC;\n",
              "    }\n",
              "\n",
              "    [theme=dark] .colab-df-convert:hover {\n",
              "      background-color: #434B5C;\n",
              "      box-shadow: 0px 1px 3px 1px rgba(0, 0, 0, 0.15);\n",
              "      filter: drop-shadow(0px 1px 2px rgba(0, 0, 0, 0.3));\n",
              "      fill: #FFFFFF;\n",
              "    }\n",
              "  </style>\n",
              "\n",
              "      <script>\n",
              "        const buttonEl =\n",
              "          document.querySelector('#df-3787ee5b-de58-4caa-b8db-89bce8b00283 button.colab-df-convert');\n",
              "        buttonEl.style.display =\n",
              "          google.colab.kernel.accessAllowed ? 'block' : 'none';\n",
              "\n",
              "        async function convertToInteractive(key) {\n",
              "          const element = document.querySelector('#df-3787ee5b-de58-4caa-b8db-89bce8b00283');\n",
              "          const dataTable =\n",
              "            await google.colab.kernel.invokeFunction('convertToInteractive',\n",
              "                                                     [key], {});\n",
              "          if (!dataTable) return;\n",
              "\n",
              "          const docLinkHtml = 'Like what you see? Visit the ' +\n",
              "            '<a target=\"_blank\" href=https://colab.research.google.com/notebooks/data_table.ipynb>data table notebook</a>'\n",
              "            + ' to learn more about interactive tables.';\n",
              "          element.innerHTML = '';\n",
              "          dataTable['output_type'] = 'display_data';\n",
              "          await google.colab.output.renderOutput(dataTable, element);\n",
              "          const docLink = document.createElement('div');\n",
              "          docLink.innerHTML = docLinkHtml;\n",
              "          element.appendChild(docLink);\n",
              "        }\n",
              "      </script>\n",
              "    </div>\n",
              "  </div>\n",
              "  "
            ]
          },
          "metadata": {},
          "execution_count": 17
        }
      ]
    },
    {
      "cell_type": "code",
      "source": [
        "from sklearn.model_selection import train_test_split\n",
        "X_train, X_test, y_train, y_test = train_test_split(X, y, test_size=0.33, random_state=0)"
      ],
      "metadata": {
        "id": "8ViEpPAPmVMX"
      },
      "execution_count": 18,
      "outputs": []
    },
    {
      "cell_type": "code",
      "source": [
        "X_train.shape\n"
      ],
      "metadata": {
        "colab": {
          "base_uri": "https://localhost:8080/"
        },
        "id": "bRq7XURhqCFA",
        "outputId": "7eca69b4-3fa1-41d9-b8fa-a51a7ff0e9c3"
      },
      "execution_count": 19,
      "outputs": [
        {
          "output_type": "execute_result",
          "data": {
            "text/plain": [
              "(4244, 1)"
            ]
          },
          "metadata": {},
          "execution_count": 19
        }
      ]
    },
    {
      "cell_type": "code",
      "source": [
        "X_test.shape\n"
      ],
      "metadata": {
        "colab": {
          "base_uri": "https://localhost:8080/"
        },
        "id": "RBGDKQqnvkFG",
        "outputId": "6ba8052b-961a-406d-9e24-ed280ad17dfb"
      },
      "execution_count": 20,
      "outputs": [
        {
          "output_type": "execute_result",
          "data": {
            "text/plain": [
              "(2091, 1)"
            ]
          },
          "metadata": {},
          "execution_count": 20
        }
      ]
    },
    {
      "cell_type": "code",
      "source": [
        "import tensorflow as tf\n",
        "from tensorflow.keras.preprocessing.text import Tokenizer\n",
        "from tensorflow.keras.preprocessing.sequence import pad_sequences"
      ],
      "metadata": {
        "id": "NDegWINgvniU"
      },
      "execution_count": 21,
      "outputs": []
    },
    {
      "cell_type": "code",
      "source": [
        "num_words = 2500\n",
        "oov_token = '<OOV>'\n",
        "# Instantiating the Tokenizer class, passing in the correct values for num_words and oov_token\n",
        "tokenizer = Tokenizer(num_words=num_words,oov_token=oov_token)\n",
        "    \n",
        "# Fitting the tokenizer to the training sentences\n",
        "\n",
        "tokenizer.fit_on_texts(X_train['text'])"
      ],
      "metadata": {
        "id": "kkU1Yen8wWyk"
      },
      "execution_count": 22,
      "outputs": []
    },
    {
      "cell_type": "code",
      "source": [
        "word_index = tokenizer.word_index\n",
        "# word_index"
      ],
      "metadata": {
        "id": "5z0m986-woOZ"
      },
      "execution_count": 30,
      "outputs": []
    },
    {
      "cell_type": "code",
      "source": [
        "# Converting sentences to sequences\n",
        "sequences = tokenizer.texts_to_sequences(X_train['text'])\n",
        "test_sequences = tokenizer.texts_to_sequences(X_test['text'])\n",
        "print(sequences[1:5])\n",
        "print(test_sequences[1:5])"
      ],
      "metadata": {
        "colab": {
          "base_uri": "https://localhost:8080/"
        },
        "id": "Xe3Y-fP3xK8u",
        "outputId": "7c21f2d2-b84d-426d-bf4b-67a8c53a931b"
      },
      "execution_count": 24,
      "outputs": [
        {
          "output_type": "stream",
          "name": "stdout",
          "text": [
            "[[936, 2211, 1416, 348, 574, 95, 10, 320, 1, 455, 394, 12, 580, 191, 466, 258, 1, 1, 27, 1, 3, 1922, 1, 1, 1625, 17, 3, 1, 1649, 643, 2487, 483, 513, 36, 1, 463, 1062, 1998, 320, 455, 258, 697, 1, 242, 399, 383, 1, 342, 1, 3, 1911, 321, 1, 1126, 258, 1, 910, 919, 1, 1, 342, 1, 342, 1, 342, 1, 1, 1, 1, 1, 1, 1, 342, 1, 342, 1, 155, 342, 1, 3, 1, 16, 314, 1, 537, 1, 1, 1911, 321, 297, 99, 1, 1, 1, 102, 1, 630, 294, 1, 586, 1259, 8, 1706, 970, 1, 1, 1, 2372, 189, 281, 1, 1, 1, 1084, 1, 62, 544, 850, 1, 1, 258, 1012, 277, 1, 1, 29, 31, 2020, 163, 1, 258, 1, 1, 1, 1, 1375, 1, 1, 1164, 636, 1, 1, 1117, 1164, 302, 1, 1, 1, 258, 1, 1, 1, 1, 1, 1, 970, 1636, 1, 277, 116, 328, 643, 1, 86, 1012, 1, 8, 192, 360, 91, 1, 192, 1, 6, 1545, 313, 6, 1454, 1, 643, 1337, 320, 2092, 76, 633, 1056, 300, 4, 1021, 1, 235, 1512, 1, 1093, 157, 258, 1, 321, 1, 1, 1056, 1, 65, 60, 105, 1065, 4, 612, 1164, 105, 302, 1, 890, 280, 1, 1502, 1, 235, 1295, 1, 1, 1, 1, 1, 1021, 1, 1093, 157, 297, 99, 1, 1, 321, 1337, 1, 4, 433, 1, 1, 1, 147, 231, 1, 258, 455, 320, 1, 1, 698, 277, 116], [1, 1982, 311, 632, 55, 1982, 434, 485, 241, 2112, 882, 6, 130, 1, 1, 1, 1, 980, 12, 130, 220, 39, 1, 1, 1, 1, 1881, 218, 42, 61, 117, 54, 511, 54, 2, 297, 117, 54, 451, 1483, 444, 511, 54, 1365, 9, 900, 5, 2265, 1323, 278, 375, 665, 1245, 1, 286, 424, 1435, 8, 1, 2179, 1483, 19, 215, 1, 523, 18, 523, 9, 152, 1, 98, 10, 204, 9, 1, 522, 1, 1, 1630, 53, 2, 1026, 1824, 225, 581, 1, 1287, 1338, 422, 581, 1, 1, 70, 1188, 1287, 212, 673, 975, 237, 16, 581, 1183, 152, 673], [41, 679, 1, 574, 891, 574, 574, 28, 1, 9, 1, 1, 2235, 738, 1, 1, 92, 1, 1, 962, 1, 1, 2180, 60, 1, 1, 1, 34, 86, 962, 1, 1, 1, 2235, 1, 9, 1, 363, 936, 1660, 249, 1, 1, 1, 1, 1, 1, 28, 1459, 9, 1, 1, 1, 1, 55, 1, 1714, 55, 580, 524, 244, 1, 1723, 1, 133, 1, 2180, 445, 498, 1838, 1, 1, 244, 2306, 1, 1, 4, 757, 959, 1, 1, 1013, 1, 1, 1135, 619, 1470, 1, 1, 1006, 1, 305, 350, 587, 324, 2067, 86, 1056, 1, 680, 1, 1442, 862, 266, 1, 516, 47, 40], [1, 1, 1, 1, 1, 44, 24, 1094, 1, 1758, 245, 448, 1, 1, 1, 1, 1, 1, 1991, 1094, 1, 1007, 433, 1991, 20, 57, 2330, 1, 101, 1679, 1, 1283, 1, 1707, 317, 458, 1, 152, 119, 685, 1042, 1, 780, 1, 1, 1, 989, 1, 112, 50, 440, 1, 1094, 1, 1, 1, 1206, 72, 1991, 20, 216, 1283, 85, 1, 42, 1, 1, 1366, 1, 1, 1, 1, 1, 144, 1, 1, 1, 1460, 1, 1, 1, 1, 1, 1, 1, 1283, 85, 1, 42, 1, 1, 1, 291, 1, 1, 1, 453, 176, 176, 449, 1, 1, 1, 144, 1, 1, 1, 1460, 1, 1, 1, 1, 1, 1, 453, 1, 1, 119, 1, 309, 1, 1, 24, 2330, 1, 948, 1, 1, 1, 253, 1, 1, 523, 6, 32, 68, 1, 1, 816, 1, 34, 844, 1813, 816, 1, 1939, 8, 784, 1, 1, 584, 523, 1, 1360, 213]]\n",
            "[[11, 470, 77, 1, 217, 1017, 55, 101, 1, 228, 179, 1150, 1, 1, 228, 179, 317, 11, 470, 77, 1, 217, 1017, 55, 250, 77, 1909, 472, 1336, 2097, 1150, 1, 423, 199, 30, 38, 1456, 1150, 657, 293, 1, 1, 1, 1, 1, 1275, 1820, 1, 5, 332, 1, 81, 753, 1, 1, 142, 52, 345, 521, 912, 1, 1, 228, 49, 18, 292, 1150, 2452, 69, 5, 1, 1, 1, 1, 736, 754, 173, 49, 18, 332, 1, 1, 48, 1, 179, 73, 6, 110, 57, 42, 198, 135, 179, 101, 598, 149, 1, 9, 241, 283, 135, 41, 9, 1, 81, 709, 1, 507, 58, 323, 470, 77, 955, 42, 69, 5, 110, 6], [217, 1459, 195, 1, 1, 1915, 967, 712, 1304, 1, 1, 381, 1217, 581, 1228, 1, 1, 269, 556, 1, 493, 9, 712, 1304, 788, 617, 1, 1677, 1, 789, 1217, 581, 1, 1, 333, 1, 1, 1, 537, 712, 1304, 609, 1, 105, 165, 210, 1, 1915, 9, 1, 967, 78, 1, 314, 1, 1, 1, 1, 974, 1, 967, 493, 1, 1, 518, 433, 2022, 84, 169, 1217, 581, 1, 1, 1, 2175, 17, 1, 1, 1, 1, 1, 1, 1, 1, 654, 967, 1423, 1, 1, 1, 1, 1, 1, 1, 72, 1, 1122, 1, 1, 645, 1189, 1413, 28, 1, 1, 1, 25, 1, 153, 1, 1, 397, 1, 518, 86, 967, 1, 540, 1, 1635, 1, 471, 1, 1, 208, 291, 13, 1005, 729, 2458, 455, 178, 1110, 181, 1, 1184, 2185, 1, 1457, 165, 1, 2437, 932, 244, 967, 282, 1, 1457, 1, 1, 129, 1, 1, 932, 1792, 1, 565, 1, 1635, 1, 1, 609, 1, 518, 1, 1, 2174, 1310, 166, 967, 1160, 518, 364, 2467, 1, 287, 2280, 1278, 967, 1195, 1, 1, 691, 1, 118, 1, 967, 2262, 330, 1740, 2175, 1065, 1, 1, 185, 27, 173, 374, 206, 1, 712, 1304, 1776, 794, 1, 2475, 410, 1, 409, 1, 1307, 54, 1801, 1338, 973, 1306, 699, 1, 794, 1], [237, 127, 4, 22, 7, 626, 15, 130, 111, 6, 444, 1, 1, 1075, 1, 22, 209, 18, 1, 2045, 141, 1, 1, 391, 1552, 1, 115, 8, 704, 7, 443, 1, 100, 1, 1, 82, 1330, 104, 6, 1, 81, 236, 2101, 415, 329, 54, 2035, 105, 723, 957, 1, 1318, 323, 1281, 262, 727, 715, 1086, 20, 1, 1, 146, 21, 1041, 43, 1971, 2492, 1, 2053, 96, 193, 1, 1, 1, 80, 205, 3, 1, 60, 329, 1, 123, 1, 203, 1435, 74, 65, 1, 1562, 696, 22, 209, 1610, 3, 1, 1, 137, 15, 23, 6, 1, 7, 912, 1, 179, 928, 1, 288, 152, 1, 39, 1, 7, 404, 1, 179], [1, 1, 977, 256, 85, 1274, 1, 303, 10, 94, 1190, 868, 1, 2115, 1, 1, 24, 1, 782, 127, 952, 234, 796, 2228, 1309, 1, 1, 336, 69, 5, 332, 1, 1, 1, 18, 494, 1, 18, 772, 2043, 1, 1, 527, 1, 54, 80, 184, 180, 1821, 1, 361, 1, 1, 1, 8, 1, 2264, 18, 5, 2170, 175, 620, 276, 412, 49, 1, 4, 1, 297, 117, 414, 1037, 126, 1, 18, 59, 24, 552, 489, 462, 2119, 5, 1, 290, 1654, 26, 1111, 26, 1640, 26, 1, 1, 1, 66, 1, 1280, 1, 1, 15, 10, 162, 139, 282, 24, 25, 1, 1458, 219, 46, 389, 146, 104, 136, 1, 547, 1, 521, 1, 46, 43, 406, 1, 1, 211, 193, 32, 21, 83, 1087, 1834, 19, 1834, 370, 298, 43, 1971, 196, 1, 937, 802, 79, 326, 1, 1, 414, 520, 48, 1, 10, 5, 700, 42, 1634, 1070, 1265, 1070, 87, 146, 18, 827, 1634, 1070, 69, 5, 280, 299, 1, 18, 523, 351, 1414, 1634, 267, 1, 414, 254, 1495, 1607, 62, 883, 126, 2018, 49, 1082, 795, 930, 5, 959, 1863, 1, 334, 1, 335, 645, 146, 190, 606, 30, 1967, 373, 290, 1, 1565, 145, 136, 1, 2377, 215, 453, 1597, 5, 1, 1, 369, 108, 98, 65, 115, 1111, 26, 20, 2082, 1, 1, 1, 1, 1399, 177, 290, 468, 5, 873, 156, 630, 56, 637, 678, 59, 24, 7, 326, 251, 467, 1422, 412, 15, 791, 712, 1, 327, 113, 87, 1577, 808, 146, 18, 220, 39, 293, 668, 1, 760, 1, 1, 1, 889, 1, 1, 1, 1, 1, 1, 1, 17, 2264, 828, 1, 1, 79, 227, 14, 385, 134, 5, 354, 309, 668, 9, 1, 279, 5, 1, 1, 1, 1, 1363, 148, 33, 66, 1326, 229, 747, 113, 1, 735, 1003, 316, 1, 1466, 1, 1, 1975, 433, 1, 982, 1, 1699, 2395, 5, 1399, 13, 563, 1878, 249, 420, 1, 1646, 841, 1, 1927, 2, 364, 1220, 271, 1826, 1, 290, 1, 826, 2040, 420, 1610, 373, 1, 5, 252, 459, 1, 62, 249, 24, 212, 2304, 675, 1701, 1, 168, 1167, 495, 5, 5, 992, 436, 598, 1, 10, 87, 517, 698, 134, 136, 1220, 25, 1, 291, 1, 257, 1, 245, 775, 88, 1634, 444, 1792, 5, 1, 1374, 72, 316, 18, 115, 1, 605, 813, 1, 46, 1, 219, 6, 113, 584, 1615, 1, 1, 775, 35, 66, 1662, 1094, 1, 1527, 1371, 1667, 1182, 469, 232, 20, 241, 206, 247, 2367, 78, 483, 134, 5, 1, 527, 1, 1, 54, 2, 334, 1151, 547, 271, 1, 1378, 383, 343, 1026, 517, 33, 883, 2264, 17, 256, 1, 1, 1, 923, 1, 135, 364, 1, 1708, 537, 1507, 996, 316, 1, 82, 566, 33, 406, 1, 331, 689, 368, 291, 1, 1, 12, 382, 18, 642, 1021, 1654, 26, 6, 1764, 795, 1, 402, 1323, 316, 264, 16, 80, 1, 1, 2063, 382, 352, 1, 132, 49, 1239, 1165, 517, 887, 1255, 954, 126, 1826, 145, 1330, 420, 696, 453, 1, 1, 949, 1082, 1614, 316, 368, 199, 13, 217, 1947, 1, 2071, 1826, 18, 45, 1764, 353, 113, 186, 485, 10, 18, 772, 1634, 267, 79, 136, 1, 6, 202, 92, 1, 193, 43, 1, 1, 56, 534, 429, 187, 184, 1967, 190, 1, 1]]\n"
          ]
        }
      ]
    },
    {
      "cell_type": "code",
      "source": [
        "maxlen = 120\n",
        "padding = 'post' \n",
        "padded_sequences = pad_sequences(sequences,maxlen=maxlen,padding=padding)\n",
        "test_padded_sequences = pad_sequences(test_sequences,maxlen=maxlen,padding=padding)\n",
        "test_padded_sequences.shape\n"
      ],
      "metadata": {
        "colab": {
          "base_uri": "https://localhost:8080/"
        },
        "id": "drTe5O4SxdH0",
        "outputId": "171ecccf-1cba-474f-e23c-b6c46e84655b"
      },
      "execution_count": 25,
      "outputs": [
        {
          "output_type": "execute_result",
          "data": {
            "text/plain": [
              "(2091, 120)"
            ]
          },
          "metadata": {},
          "execution_count": 25
        }
      ]
    },
    {
      "cell_type": "code",
      "source": [
        "def create_model(num_words, embedding_dim, maxlen):\n",
        "    \n",
        "    tf.random.set_seed(123)\n",
        "    \n",
        "   \n",
        "    \n",
        "    model = tf.keras.Sequential([ \n",
        "        tf.keras.layers.Embedding(num_words,embedding_dim,input_length=maxlen),\n",
        "        tf.keras.layers.GlobalAveragePooling1D(),\n",
        "        tf.keras.layers.Dense(10, activation='relu'),\n",
        "        tf.keras.layers.Dense(2,activation='softmax')\n",
        "    ])\n",
        "    \n",
        "    model.compile(loss='sparse_categorical_crossentropy',\n",
        "                  optimizer='adam',\n",
        "                  metrics=['accuracy']) \n",
        "\n",
        "\n",
        "    return model\n"
      ],
      "metadata": {
        "id": "stXs30Fhx8ex"
      },
      "execution_count": 26,
      "outputs": []
    },
    {
      "cell_type": "code",
      "source": [
        "EMBEDDING_DIM = 6\n",
        "\n",
        "model = create_model(num_words, EMBEDDING_DIM, maxlen)\n",
        "\n",
        "history = model.fit(padded_sequences, y_train, epochs=10, validation_data=(test_padded_sequences, y_test))"
      ],
      "metadata": {
        "colab": {
          "base_uri": "https://localhost:8080/"
        },
        "id": "QHAzyLXc0DBc",
        "outputId": "2312ce76-b07a-4b87-ea30-1bbe1048a602"
      },
      "execution_count": 27,
      "outputs": [
        {
          "output_type": "stream",
          "name": "stdout",
          "text": [
            "Epoch 1/10\n",
            "133/133 [==============================] - 2s 5ms/step - loss: 0.6833 - accuracy: 0.6730 - val_loss: 0.6637 - val_accuracy: 0.7159\n",
            "Epoch 2/10\n",
            "133/133 [==============================] - 0s 3ms/step - loss: 0.6003 - accuracy: 0.8018 - val_loss: 0.5381 - val_accuracy: 0.8063\n",
            "Epoch 3/10\n",
            "133/133 [==============================] - 0s 4ms/step - loss: 0.4417 - accuracy: 0.8582 - val_loss: 0.4098 - val_accuracy: 0.8503\n",
            "Epoch 4/10\n",
            "133/133 [==============================] - 1s 4ms/step - loss: 0.3274 - accuracy: 0.8893 - val_loss: 0.3509 - val_accuracy: 0.8546\n",
            "Epoch 5/10\n",
            "133/133 [==============================] - 0s 4ms/step - loss: 0.2652 - accuracy: 0.9039 - val_loss: 0.3290 - val_accuracy: 0.8666\n",
            "Epoch 6/10\n",
            "133/133 [==============================] - 1s 4ms/step - loss: 0.2252 - accuracy: 0.9166 - val_loss: 0.3160 - val_accuracy: 0.8661\n",
            "Epoch 7/10\n",
            "133/133 [==============================] - 1s 5ms/step - loss: 0.1951 - accuracy: 0.9317 - val_loss: 0.3147 - val_accuracy: 0.8642\n",
            "Epoch 8/10\n",
            "133/133 [==============================] - 1s 5ms/step - loss: 0.1710 - accuracy: 0.9385 - val_loss: 0.3169 - val_accuracy: 0.8637\n",
            "Epoch 9/10\n",
            "133/133 [==============================] - 1s 5ms/step - loss: 0.1524 - accuracy: 0.9451 - val_loss: 0.3258 - val_accuracy: 0.8627\n",
            "Epoch 10/10\n",
            "133/133 [==============================] - 1s 5ms/step - loss: 0.1348 - accuracy: 0.9543 - val_loss: 0.3309 - val_accuracy: 0.8647\n"
          ]
        }
      ]
    },
    {
      "cell_type": "code",
      "source": [
        "import matplotlib.pyplot as plt\n",
        "def plot_graphs(history, metric):\n",
        "    plt.plot(history.history[metric])\n",
        "    plt.plot(history.history[f'val_{metric}'])\n",
        "    plt.xlabel(\"Epochs\")\n",
        "    plt.ylabel(metric)\n",
        "    plt.legend([metric, f'val_{metric}'])\n",
        "    plt.show()\n",
        "    \n",
        "plot_graphs(history, \"accuracy\")\n",
        "plot_graphs(history, \"loss\")"
      ],
      "metadata": {
        "colab": {
          "base_uri": "https://localhost:8080/",
          "height": 541
        },
        "id": "ilyAQJQK2Zf-",
        "outputId": "6325dc7f-b1a1-4aaf-f7f7-4f7ed863c702"
      },
      "execution_count": 28,
      "outputs": [
        {
          "output_type": "display_data",
          "data": {
            "text/plain": [
              "<Figure size 432x288 with 1 Axes>"
            ],
            "image/png": "[encoded data removed]"
          },
          "metadata": {
            "needs_background": "light"
          }
        },
        {
          "output_type": "display_data",
          "data": {
            "text/plain": [
              "<Figure size 432x288 with 1 Axes>"
            ],
            "image/png": "[encoded data removed]"
          },
          "metadata": {
            "needs_background": "light"
          }
        }
      ]
    },
    {
      "cell_type": "markdown",
      "source": [
        "#END"
      ],
      "metadata": {
        "id": "UTEohaZ75U0O"
      }
    }
  ]
}